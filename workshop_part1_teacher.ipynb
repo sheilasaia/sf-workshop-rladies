{
 "cells": [
  {
   "cell_type": "markdown",
   "metadata": {},
   "source": [
    "# Spatial Data Basics with sf in R (Part 1)\n",
    "\n",
    "This jupyter notebook contains the code and documentation for part 1 of the \"Spatial Data Basics with sf in R\" workshop with R-Ladies RTP.\n",
    "\n",
    "All of the code that was used to create this tutorial can be found on GitHub here: https://github.com/sheilasaia/sf-workshop-rladies. Please contact Sheila Saia via Meetup or in the Zoom chat during the workshop, if you have any questions.\n",
    "\n",
    "## Learning Outcomes\n",
    "\n",
    "By the end of part 1 of the workshop attendees will be able to:\n",
    "\n",
    "1. **describe** key aspects of spatial data that are important for spatial data analysis (i.e., dsata types, formats, and coordinate reference systems)\n",
    "\n",
    "2. **describe** what the sf package can and cannot do, including some initial practice with using it.\n",
    "\n",
    "Meetup page for Part 1: https://www.meetup.com/rladies-rtp/events/285489478/\n",
    "\n",
    "## What is Binder? What is a jupyter notebook?\n",
    "\n",
    "*Binder* (https://mybinder.org) is an open-source interactive codeing planform that simplifies code instruction. It's free to use and best of all it is accessible to anyone with an internet browser and internet connection. You do no need to install any software on your computer. If you want to work on your own computer later, you can download the whole binder space to your computer and you'll have all the code there for later.\n",
    "\n",
    "*Jupyter notebooks* are a coding language agnostic, interactive coding interface that accessible through any internet browers. If you've used RMarkdown before, it's very similar to this in that it has code chucks and markdown (or text) chunks. In this case, we've set our jupyter notebook up to understand R, but we can set it to recognize other coding languages like Python, Julia, etc.!\n",
    "\n",
    "### Zoom Chat Questions\n",
    "\n",
    "1. How many people have heard of Binder before?\n",
    "\n",
    "2. How many people have used it?\n",
    "\n",
    "3. How many people have heard of jupyter notebooks before? \n",
    "\n",
    "4. How many people have used them?\n",
    "\n",
    "## Tour of Binder\n",
    "\n",
    "- side panel\n",
    "- notebook\n",
    "- notebook header panel\n",
    "\n",
    "**Note** A Binder session will timeout after 15 minutes of activity. Also, you will not be able to save your work in your Binder session BUT! you can save your work by downloading it to your computer.\n",
    "\n",
    "\n",
    "## Notebook Test\n",
    "\n",
    "Let's try writing some code in R and see what happens.\n",
    "\n",
    "Try to do the following:\n",
    "\n",
    "1. load the `tidyverse` R library using the `library()` function.\n",
    "\n",
    "2. create a variable `x` and assign it a vector of numeric values 1, 2, and 3.\n",
    "\n",
    "3. add 1 to `x` and print the result\n",
    "\n",
    "4. check the data type (i.e., class) of x"
   ]
  },
  {
   "cell_type": "code",
   "execution_count": 2,
   "metadata": {
    "vscode": {
     "languageId": "r"
    }
   },
   "outputs": [
    {
     "data": {
      "text/html": [
       "<style>\n",
       ".list-inline {list-style: none; margin:0; padding: 0}\n",
       ".list-inline>li {display: inline-block}\n",
       ".list-inline>li:not(:last-child)::after {content: \"\\00b7\"; padding: 0 .5ex}\n",
       "</style>\n",
       "<ol class=list-inline><li>1</li><li>2</li><li>3</li></ol>\n"
      ],
      "text/latex": [
       "\\begin{enumerate*}\n",
       "\\item 1\n",
       "\\item 2\n",
       "\\item 3\n",
       "\\end{enumerate*}\n"
      ],
      "text/markdown": [
       "1. 1\n",
       "2. 2\n",
       "3. 3\n",
       "\n",
       "\n"
      ],
      "text/plain": [
       "[1] 1 2 3"
      ]
     },
     "metadata": {},
     "output_type": "display_data"
    }
   ],
   "source": [
    "# load the tidyverse library\n",
    "# your code here\n",
    "library(tidyverse)\n",
    "\n",
    "# create a variable x and assign it a vector of numeric values 1, 2, 3\n",
    "# your code here\n",
    "x <- c(1, 2, 3)\n",
    "\n",
    "# add 1 to x and print the result\n",
    "# your code here\n",
    "print(x + 1)\n",
    "x + 1\n",
    "\n",
    "# check the class of x\n",
    "# your code here\n",
    "class(x)"
   ]
  },
  {
   "cell_type": "markdown",
   "metadata": {},
   "source": []
  }
 ],
 "metadata": {
  "kernelspec": {
   "display_name": "R",
   "language": "R",
   "name": "ir"
  },
  "language_info": {
   "codemirror_mode": "r",
   "file_extension": ".r",
   "mimetype": "text/x-r-source",
   "name": "R",
   "pygments_lexer": "r",
   "version": "4.2.0"
  }
 },
 "nbformat": 4,
 "nbformat_minor": 2
}
