{
 "cells": [
  {
   "cell_type": "markdown",
   "metadata": {},
   "source": [
    "# Spatial Data Basics with sf in R (Part 2)\n",
    "\n",
    "This jupyter notebook contains the code and documentation for part 2 of the \"Spatial Data Basics with sf in R\" workshop with R-Ladies RTP.\n",
    "\n",
    "All of the code that was used to create this tutorial can be found on GitHub here: https://github.com/sheilasaia/sf-workshop-rladies. Please contact Sheila Saia via Meetup or in the Zoom chat during the workshop, if you have any questions.\n",
    "\n",
    "## Learning Outcomes\n",
    "\n",
    "By the end of part 2 of the workshop attendees will be able to:\n",
    "\n",
    "1. **explain** different types of spatial operations using the sf package in R\n",
    "2. **apply** sf and tidyverse operations to wrangle and map real-world spatial data\n",
    "\n",
    "Meetup page for Part 2: https://www.meetup.com/rladies-rtp/events/286377977/\n",
    "\n",
    "To prepare for this workshop load the tidyverse, sf, and here R packages."
   ]
  },
  {
   "cell_type": "code",
   "execution_count": null,
   "metadata": {},
   "outputs": [],
   "source": [
    "# load the libraries\n",
    "# add your code here\n",
    "library(tidyverse)\n",
    "library(here)\n",
    "library(sf)"
   ]
  },
  {
   "cell_type": "markdown",
   "metadata": {},
   "source": [
    "## Converting Tabular Data to Spatial Data\n",
    "\n",
    "Before we take a look at some spatial operations, let's take a tabular (i.e., .csv) dataset that has latitude and longitude decimal values and convert it to a spatial dataset.\n",
    "\n",
    "Check out the [U.S. Geological Survey GAGESII dataset](https://water.usgs.gov/GIS/metadata/usgswrd/XML/gagesII_Sept2011.xml) of streamgages located in North Carolina that's available in the data > streamgages > nc_gages.csv file."
   ]
  },
  {
   "cell_type": "code",
   "execution_count": null,
   "metadata": {},
   "outputs": [],
   "source": [
    "# first load in the data\n",
    "nc_gages <- read_csv(here::here(\"data\", \"streamgages\", \"nc_gages.csv\"), col_names = TRUE)"
   ]
  },
  {
   "cell_type": "code",
   "execution_count": null,
   "metadata": {},
   "outputs": [],
   "source": [
    "# look at the first few lines\n",
    "head(nc_gages)\n",
    "\n",
    "# the LAT_GAGE and LNG_GAGE columns are the latitude and longitude columns, respectively"
   ]
  },
  {
   "cell_type": "code",
   "execution_count": null,
   "metadata": {},
   "outputs": [],
   "source": [
    "# check the class\n",
    "class(nc_gages)"
   ]
  },
  {
   "cell_type": "markdown",
   "metadata": {},
   "source": [
    "Now we can take this tabular data and convert it to a spatial dataset using the `st_as_sf()` function where we define the `coords` argument using the latitude and longitude column names. This will tell R that we want those columns to represent those values in space."
   ]
  },
  {
   "cell_type": "code",
   "execution_count": null,
   "metadata": {},
   "outputs": [],
   "source": [
    "# convert tabular to spatial data\n",
    "nc_gages_spatial <- st_as_sf(nc_gages, coords = c(\"LNG_GAGE\", \"LAT_GAGE\"), crs = 4326, dim = \"XY\") %>%\n",
    "  st_transform(crs = 5070)\n",
    "\n",
    "# crs = 4326 because this is the standard EPSG code for the WGS 1984 geographic coordinate system that represents simple lat and long values, then transform to crs = 5070 to work with our other data"
   ]
  },
  {
   "cell_type": "code",
   "execution_count": null,
   "metadata": {},
   "outputs": [],
   "source": [
    "# check the class\n",
    "class(nc_gages_spatial)"
   ]
  },
  {
   "cell_type": "markdown",
   "metadata": {},
   "source": [
    "## Coding: Mapping the New Dataset \n",
    "\n",
    "Try to do the following:\n",
    "\n",
    "1. Load in the nc_bounds dataset again from part 1.\n",
    "2. Plot the nc_bounds dataset on the bottom and the nc_gages_spatial dataset on the top using `geom_sf()`."
   ]
  },
  {
   "cell_type": "code",
   "execution_count": null,
   "metadata": {},
   "outputs": [],
   "source": [
    "# load in nc_bounds dataset\n",
    "# add your code here\n",
    "\n",
    "# plot nc bounds and gages data on the map\n",
    "# fill in the ... below\n",
    "\n",
    "ggplot() +\n",
    "  geom_sf(data = ..., fill = NA) +\n",
    "  geom_sf(data = ..., color = \"blue\")\n",
    "\n",
    "ggsave(here::here(\"outputs\", \"nc_gages_map.png\"), device = \"png\", dpi = 50)"
   ]
  },
  {
   "cell_type": "markdown",
   "metadata": {},
   "source": [
    "## Spatial Operations\n",
    "\n",
    "Common Spatial (Geometric/Geometry) \"Operations\"\n",
    "\n",
    "Some common sf spatial operation commands might include (in no special order):\n",
    "\n",
    "1. st_transform() - We've seen this before. Projects from one CRS to another.\n",
    "2. st_area() - Calculates the area of a polygon.\n",
    "3. st_centroid() - Finds the centroid (x-y coordinate) of a polygon or combined geometry.\n",
    "4. st_difference() - Removes overlapping spatial data between two datasets.\n",
    "5. st_intersection() - Finds overlapping spatial data between two datasets where output is an sf object that's clipped to the boundary of the intersected dataset.\n",
    "6. st_simplify() - Makes a simpler version of a geometry based on a given tolerance. This helps reduce file size and speed up visualization loading.\n",
    "7. st_snap() - Snaps points or nodes to a second spatial dataset.\n",
    "8. st_buffer() - Creates a polygon extending from a geometry within a given distance.\n",
    "9. st_boundary() - Finds a polygon that encompasses the full extent of the geometry.\n",
    "10. st_crop() - Makes a geometry that intersects a specified rectangle, where the rectangle can be the greatest rectangular boundary of the dataset provided\n",
    "11. so many others...\n",
    "\n",
    "I'm distinguishing these from Spatial (Geometric) \"Confirmations\" which are similar operations but the output is a list object rather than a sf object. For example, st_intersects() and st_within(). See the sf cheatsheet for more information on this.\n",
    "\n",
    "Also, sometimes the differences between these operations can be confusing/not obvious so what I tend to do is try them out and then plot the result to make sure it's doing what I think it's doing. If it's not, then you can trouble-shoot from there.\n",
    "\n",
    "## Coding: Trying Out Some Spatial Operations\n",
    "\n",
    "So one of the most common spatial operations that you will use is a spatial join, otherwise known as an intersection in sf terminology. If you're interested in knowing where two datasets overlap in space, you can use this.\n",
    "\n",
    "Let's try a spatial join out with two datasets: (1) the `nc_gages_spatial` dataset and (2) a spatial dataset with the median household income per county from the U.S. Census Bureau called `nc_county_income`\n",
    "\n",
    "Try to do the following: \n",
    "\n",
    "1. Load in the `nc_county_income` dataset in data > nc_county_income > nc_county_income.shp and check the CRS.\n",
    "2. Look at the columns of this dataset as well as the columns of the `nc_gages_spatial dataset`.\n",
    "3. Use `st_intersection()` to join the two datasets together and assign it to `nc_gages_income_join`.\n",
    "4. Map these data using `nc_bounds` and `nc_gages_income_join` and color the points by median household income. Do you see any interesting patterns?"
   ]
  },
  {
   "cell_type": "code",
   "execution_count": null,
   "metadata": {},
   "outputs": [],
   "source": [
    "# load in county income data\n",
    "# add your code here\n",
    "\n",
    "# ok CRS = 5070 so it's compatible with all of our other data and we don't need to transform. yay!"
   ]
  },
  {
   "cell_type": "code",
   "execution_count": null,
   "metadata": {},
   "outputs": [],
   "source": [
    "# look at the columns\n",
    "# add your code here"
   ]
  },
  {
   "cell_type": "code",
   "execution_count": null,
   "metadata": {},
   "outputs": [],
   "source": [
    "# do a spatial join with the gages and county income data\n",
    "# add your code here"
   ]
  },
  {
   "cell_type": "code",
   "execution_count": null,
   "metadata": {},
   "outputs": [],
   "source": [
    "# map the data\n",
    "# fill in the ... below\n",
    "ggplot() +\n",
    "  geom_sf(data = ..., fill = NA) +\n",
    "  geom_sf(data = ..., aes(color = est))\n",
    "\n",
    "ggsave(here::here(\"outputs\", \"nc_gages_income_map.png\"), device = \"png\", dpi = 50)"
   ]
  },
  {
   "cell_type": "markdown",
   "metadata": {},
   "source": [
    "## Spatial Operations Practice\n",
    "\n",
    "Try out some of the other spatial operations. Here are some ideas:\n",
    "\n",
    "1. What is the area of each county?\n",
    "2. Create a map of the number of gages per county (and plot the number of gauges vs median county income).\n",
    "3. Buffer each gage by 5 km and map the result.\n",
    "4. Find the minimum area that contains all the gages. What fraction of the total area of NC is this?\n",
    "5. Find the centroid of each county and map the result along with the county bounds.\n",
    "\n",
    "## Other Helpful sf Commands\n",
    "\n",
    "If you have a spatial dataset and you want to just keep the attribute data, that is, the data that is not spatially oriented, you can use `st_drop_geometry()` and you will just be left with the dataframe. If you only want to keep the geometry and want to drop all the attribute data you can use `st_geometry()`."
   ]
  },
  {
   "cell_type": "markdown",
   "metadata": {},
   "source": [
    "## If Time Allows - Adding a Basemap\n",
    "\n",
    "A basemap provides spatial context for your map by adding a raster data image behind it. This image looks just like a Google map behind your map data."
   ]
  },
  {
   "cell_type": "code",
   "execution_count": null,
   "metadata": {},
   "outputs": [],
   "source": [
    "# get data bounding box\n",
    "nc_bbox <- nc_bounds %>%\n",
    "  st_buffer(dist = 150000) %>% # this value is very arbitrary just wanting to make a large buffer around geometry\n",
    "  st_transform(4326) %>% # WGS84 (for lat and long)\n",
    "  st_bbox()\n",
    "nc_bbox # check\n",
    "\n",
    "# fix bounding box columns so they match what is needed for the ggmap::get_map() function\n",
    "nc_bbox_fix <- c(left = nc_bbox[[1]], bottom = nc_bbox[[2]], right = nc_bbox[[3]], top = nc_bbox[[4]])\n",
    "\n",
    "# check result\n",
    "nc_bbox_fix\n",
    "\n",
    "# get basemap\n",
    "nc_basemap <- get_map(nc_bbox_fix, maptype = 'terrain-background', source = 'stamen', zoom = 8)\n",
    "# this will have a CRS = WGS84\n",
    "\n",
    "# convert nc_state_bounds_geom to WGS84 so it matches nc_basemap\n",
    "nc_bounds_geom_wsg84 <- nc_bounds %>%\n",
    "  st_transform(4326)\n",
    "\n",
    "# check\n",
    "st_crs(nc_bounds_geom_wsg84)\n",
    "\n",
    "# plot without basemap\n",
    "ggplot() +\n",
    "  geom_sf(data = nc_bounds_geom_wsg84, fill = NA, lwd = 2) +\n",
    "  theme_bw()\n",
    "\n",
    "# plot with basemap\n",
    "# windows version?\n",
    "ggmap(nc_basemap) +\n",
    "  geom_sf(data = nc_bounds_geom_wsg84, fill = NA, lwd = 1, inherit.aes = FALSE)"
   ]
  },
  {
   "cell_type": "markdown",
   "metadata": {},
   "source": [
    "## Wrap Up and Questions\n",
    "\n",
    "I hope you are now able to:\n",
    "\n",
    "1. **explain** different types of spatial operations using the sf package in R\n",
    "2. **apply** sf and tidyverse operations to wrangle and map real-world spatial data\n",
    "\n",
    "### Questions\n",
    "\n",
    "Please feel free to ask any questions you have about this material before we finish for the evening."
   ]
  }
 ],
 "metadata": {
  "language_info": {
   "name": "python"
  },
  "orig_nbformat": 4
 },
 "nbformat": 4,
 "nbformat_minor": 2
}
