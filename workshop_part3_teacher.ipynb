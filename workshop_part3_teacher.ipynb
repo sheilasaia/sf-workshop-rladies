{
 "cells": [
  {
   "cell_type": "markdown",
   "metadata": {},
   "source": [
    "# Spatial Data Basics with sf in R (Part 3)\n",
    "\n",
    "This jupyter notebook contains the code and documentation for part 3 of the \"Spatial Data Basics with sf in R\" workshop with R-Ladies RTP.\n",
    "\n",
    "All of the code that was used to create this tutorial can be found on GitHub here: https://github.com/sheilasaia/sf-workshop-rladies. Please contact Sheila Saia via Meetup or in the Zoom chat during the workshop, if you have any questions.\n",
    "\n",
    "Special thanks to Dallas Hoffman for all their feedback and help with running this multi-part workshop!\n",
    "\n",
    "## Learning Outcomes\n",
    "\n",
    "By the end of part 3 of the workshop attendees will be able to:\n",
    "\n",
    "1. **apply** sf and tidyverse operations to wrangle and map real-world spatial data\n",
    "\n",
    "Meetup page for Part 3: https://www.meetup.com/rladies-rtp/events/286866014/\n",
    "\n",
    "To start, load the `tidyverse`, `sf`, and `here` R packages."
   ]
  },
  {
   "cell_type": "code",
   "execution_count": null,
   "metadata": {
    "vscode": {
     "languageId": "r"
    }
   },
   "outputs": [],
   "source": [
    "# load the libraries\n",
    "# add your code here\n",
    "library(tidyverse)\n",
    "library(here)\n",
    "library(sf)"
   ]
  },
  {
   "cell_type": "markdown",
   "metadata": {},
   "source": [
    "## Real-World Spatial Data\n",
    "\n",
    "There were several spatial datasets that we've worked with so far (that are located in the data director of this project).\n",
    "\n",
    "Some data we've already worked with:\n",
    "\n",
    "- Southeastern state bounds\n",
    "- North Carolina bounds\n",
    "- North Carolina median income\n",
    "- North Carolina USGS streamflow gauges\n",
    "\n",
    "Some other data that might be of interest\n",
    "- North Carolina non-reference watersheds (spatial, in data directory) - NOTE: non-reference watersheds have some urban/residential/commercial development versus reference watersheds which are largely undeveloped\n",
    "- North Carolina watershed characteristics (tabular, in data directory)\n",
    "- North Carolina USGS streamflow gauges time series data (tabular, not in data directory but can use `dataRetrieval` package in R and gage id's from existing data)\n",
    "- Other North Carolina Census data (tabular and spatial, not in data directory but can use `tidycensus` package in R *with a Census API key*)\n",
    "\n",
    "## Spatial Operations Practice Ideas\n",
    "\n",
    "Try out some of the other spatial operations. Here are some ideas:\n",
    "\n",
    "1. What is the area of each county?\n",
    "2. What is the centroid of each non-reference watershed. Map the watersheds and these centroids together on one image.\n",
    "3. Buffer each gage by 5 km and map the result.\n",
    "4. Create a map of the number of gages per county (and plot the number of gauges vs median county income).\n",
    "5. Find the minimum area that contains all the gages. What fraction of the total area of NC is this?\n",
    "6. Find the centroid of each county and map the result along with the county bounds.\n",
    "7. What other things would you like to try?\n",
    "\n",
    "## Other Helpful sf Commands\n",
    "\n",
    "If you have a spatial dataset and you want to just keep the attribute data, that is, the data that is not spatially oriented, you can use `st_drop_geometry()` and you will just be left with the dataframe. If you only want to keep the geometry and want to drop all the attribute data you can use `st_geometry()`."
   ]
  }
 ],
 "metadata": {
  "language_info": {
   "name": "python"
  },
  "orig_nbformat": 4
 },
 "nbformat": 4,
 "nbformat_minor": 2
}
