{
 "cells": [
  {
   "cell_type": "markdown",
   "metadata": {},
   "source": [
    "# Spatial Data Basics with sf in R (Part 2)\n",
    "\n",
    "This jupyter notebook contains the code and documentation for part 2 of the \"Spatial Data Basics with sf in R\" workshop with R-Ladies RTP.\n",
    "\n",
    "All of the code that was used to create this tutorial can be found on GitHub here: https://github.com/sheilasaia/sf-workshop-rladies. Please contact Sheila Saia via Meetup or in the Zoom chat during the workshop, if you have any questions.\n",
    "\n",
    "## Learning Outcomes\n",
    "\n",
    "By the end of part 2 of the workshop attendees will be able to:\n",
    "\n",
    "1. **explain** different types of spatial operations using the sf package in R\n",
    "2. **apply** sf and tidyverse operations to wrangle and map real-world spatial data\n",
    "\n",
    "Meetup page for Part 2: https://www.meetup.com/rladies-rtp/events/286377977/\n",
    "\n",
    "To prepare for this workshop load the tidyverse, sf, and here R packages."
   ]
  },
  {
   "cell_type": "code",
   "execution_count": null,
   "metadata": {},
   "outputs": [],
   "source": [
    "# load the libraries\n",
    "# add your code here\n",
    "library(tidyverse)\n",
    "library(here)\n",
    "library(sf)"
   ]
  },
  {
   "cell_type": "code",
   "execution_count": null,
   "metadata": {},
   "outputs": [],
   "source": []
  },
  {
   "cell_type": "markdown",
   "metadata": {},
   "source": [
    "## Wrap Up and Questions\n",
    "\n",
    "I hope you are now able to:\n",
    "\n",
    "1. **explain** different types of spatial operations using the sf package in R\n",
    "2. **apply** sf and tidyverse operations to wrangle and map real-world spatial data\n",
    "\n",
    "### Questions\n",
    "\n",
    "Please feel free to ask any questions you have about this material before we finish for the evening."
   ]
  }
 ],
 "metadata": {
  "language_info": {
   "name": "python"
  },
  "orig_nbformat": 4
 },
 "nbformat": 4,
 "nbformat_minor": 2
}
