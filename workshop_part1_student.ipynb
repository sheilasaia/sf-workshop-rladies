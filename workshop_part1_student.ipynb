{
 "cells": [
  {
   "cell_type": "markdown",
   "metadata": {},
   "source": [
    "# Spatial Data Basics with sf in R (Part 1)\n",
    "\n",
    "This jupyter notebook contains the code and documentation for part 1 of the \"Spatial Data Basics with sf in R\" workshop with R-Ladies RTP.\n",
    "\n",
    "All of the code that was used to create this tutorial can be found on GitHub here: https://github.com/sheilasaia/sf-workshop-rladies. Please contact Sheila Saia via Meetup or in the Zoom chat during the workshop, if you have any questions.\n",
    "\n",
    "## Learning Outcomes\n",
    "\n",
    "By the end of part 1 of the workshop attendees will be able to:\n",
    "\n",
    "1. **describe** key aspects of spatial data that are important for spatial data analysis (i.e., dsata types, formats, and coordinate reference systems)\n",
    "2. **describe** what the sf package can and cannot do, including some initial practice with using it.\n",
    "\n",
    "Meetup page for Part 1: https://www.meetup.com/rladies-rtp/events/285489478/\n",
    "\n",
    "## What is Binder? What is a jupyter notebook?\n",
    "\n",
    "*Binder* (https://mybinder.org) is an open-source interactive codeing planform that simplifies code instruction. It's free to use and best of all it is accessible to anyone with an internet browser and internet connection. You do no need to install any software on your computer. If you want to work on your own computer later, you can download the whole binder space to your computer and you'll have all the code there for later.\n",
    "\n",
    "*Jupyter notebooks* are a coding language agnostic, interactive coding interface that accessible through any internet browers. If you've used RMarkdown before, it's very similar to this in that it has code chucks and markdown (or text) chunks. In this case, we've set our jupyter notebook up to understand R, but we can set it to recognize other coding languages like Python, Julia, etc.!\n",
    "\n",
    "### Discussion Questions\n",
    "\n",
    "1. How many people have heard of Binder before?\n",
    "2. How many people have used it?\n",
    "3. How many people have heard of jupyter notebooks before? \n",
    "4. How many people have used them?\n",
    "\n",
    "## Tour of Binder\n",
    "\n",
    "- side panel\n",
    "- notebook\n",
    "- notebook header panel\n",
    "\n",
    "**Note** A Binder session will timeout after 15 minutes of activity. Also, you will not be able to save your work in your Binder session BUT! you can save your work by downloading it to your computer.\n",
    "\n",
    "## Coding: Notebook Test\n",
    "\n",
    "Let's try writing some code in R and see what happens.\n",
    "\n",
    "Try to do the following:\n",
    "\n",
    "1. load the `tidyverse` R package using the `library()` function.\n",
    "2. create a variable `x` and assign it a vector of numeric values 1, 2, and 3.\n",
    "3. add 1 to `x` and print the result\n",
    "4. check the data type (i.e., class) of x"
   ]
  },
  {
   "cell_type": "code",
   "execution_count": null,
   "metadata": {
    "vscode": {
     "languageId": "r"
    }
   },
   "outputs": [],
   "source": [
    "# load the tidyverse package\n",
    "# your code here\n",
    "library(tidyverse)"
   ]
  },
  {
   "cell_type": "code",
   "execution_count": null,
   "metadata": {
    "vscode": {
     "languageId": "r"
    }
   },
   "outputs": [],
   "source": [
    "# create a variable x and assign it a vector of numeric values 1, 2, 3\n",
    "# your code here\n",
    "x <- c(1, 2, 3)"
   ]
  },
  {
   "cell_type": "code",
   "execution_count": null,
   "metadata": {
    "vscode": {
     "languageId": "r"
    }
   },
   "outputs": [],
   "source": [
    "# add 1 to x and print the result\n",
    "# your code here\n",
    "print(x + 1)\n",
    "x + 1"
   ]
  },
  {
   "cell_type": "code",
   "execution_count": null,
   "metadata": {
    "vscode": {
     "languageId": "r"
    }
   },
   "outputs": [],
   "source": [
    "# check the class of x\n",
    "# your code here\n",
    "class(x)"
   ]
  },
  {
   "cell_type": "markdown",
   "metadata": {},
   "source": [
    "## What is Geospatial Data?\n",
    "\n",
    "Geospatial data refers to any data that is associated with a location on Earth (or another planet). Usually this means that the data has coordinates (i.e., latitude and longitude or easting and northing).\n",
    "\n",
    "## Two Major Types of Spatial Data\n",
    "\n",
    "There are two main types of geospatial data:\n",
    "\n",
    "1. vector data - points, lines, polygons\n",
    "2. raster data - pixels (grid) where each grid cell represents a single attribute value\n",
    "\n",
    "### Discussion Questions\n",
    "\n",
    "1. Can you think of examples of vector and raster data in your field?\n",
    "2. What are some example file extensions for vector and raster data (spatial and non-spatial)?\n",
    "\n",
    "## Categories of Vector Spatial Data\n",
    "\n",
    "Types of geospatial data:\n",
    "\n",
    "1. points - a single coordinate combination of x and y (or longitude and latitude, respectively)\n",
    "2. lines - 2 or more points form a line\n",
    "3. polygons - 2 or more lines form a polygon\n",
    "\n",
    "Here's an example spatial data figure that you could make in R.\n",
    "\n",
    "![Figure 1. (a) Map of North Carolina with watersheds (grey polygons) and stream gages (black dots). (b) Map of North Carolina with basemap, overlapping watersheds (grey polygons) and overlapping stream gages (black dots).](img/example_map.png)\n",
    "\n",
    "### Discussion Question\n",
    "\n",
    "1. Can you identify different types of spatial data in the Figure 1?\n",
    "2. Can you think of examples of point, line, and polygon data in your field?\n",
    "\n",
    "## A NOTE on Spatial Data Packages\n",
    "\n",
    "As far as I know, most R spatial packages either focus on tools for working with vector or raster spatial data. I've tried to list some examples below:\n",
    "\n",
    "**Some Vector Data Packages**\n",
    "\n",
    "- sp\n",
    "- sf^*\n",
    "- sfnetworks\n",
    "\n",
    "**Some Raster Data Packages**\n",
    "\n",
    "- raster\n",
    "- stars^*\n",
    "\n",
    "**One Package That Has Both**\n",
    "\n",
    "- elevatR^*\n",
    "\n",
    "**Note** Packages with a * subscript will work well with the tidyverse; they stick to tidy data principles.\n",
    "\n",
    "## The sf R Package\n",
    "\n",
    "The `sf` package is a popular tool for working with **vector** spatial data in R. The letters of the package name stand for simple features. A good thing to also keep in mind when using the sf package is that it is still under active development, so it's good to make sure you have an up-to-date version every once in a while by reinstalling it (more on installing it later). You can read more about sf [here](https://github.com/r-spatial/sf).\n",
    "\n",
    "**Some Important Points**\n",
    "\n",
    "- Was first released in 2016 and it's use is growing rapidly\n",
    "- Improvement upon the former `sp` package that was developed in 2005\n",
    "- Regular data frames with an extra list-structured geometry column that are **not** SpatialData objects but are one of three nested main sf object classes (see below) represented by S3 datatypes\n",
    "- \"Language independent\" standard spatial data structure (ISO standard ISO 19125-1:2004: [https://www.iso.org/standard/40114.html](https://www.iso.org/standard/40114.html))\n",
    "- Follows tidy data rules and will not change class (though geometry can change) and retain their data\n",
    "- Tidyverse commands that work with sf objects: [https://r-spatial.github.io/sf/reference/tidyverse.html](https://r-spatial.github.io/sf/reference/tidyverse.html)\n",
    "- Uses spatial indexing, so many spatial query operations are faster\n",
    "- Cannot be used in operations that require data of class SpatialData (i.e., sp objects) so you'll have to do converting if this is the case using something like `sp_to_sf()`\n",
    "\n",
    "## sf Object Classes\n",
    "\n",
    "I won't go over this in too much detail because it's a little wonky for an intro workshop, but sf objects are organized into three main classes and several different geometries, which you can read more about [here](https://r-spatial.github.io/sf/articles/sf1.html). Some of the most common geometries are included in Table 1 below.\n",
    "\n",
    "In most cases sf classes are nested. That is, an sf object contains an sfc object which contains a sfg object (see full description below).\n",
    "\n",
    "![Table 1. Geometries represented in the sf package. Source: https://r-spatial.github.io/sf/articles/sf1.html](img/sf_geometries.png)\n",
    "\n",
    "\n",
    "## Coding: Preparing to Use sf\n",
    "\n",
    "Let's try some coding.\n",
    "\n",
    "Try to do the following:\n",
    "\n",
    "1. What command would you use if you've never used the sf and here packages on your computer? Write the code to do this, but you don't have to run it.\n",
    "2. What command would you use use to tell R that you want to start working with the sf and here packages?\n",
    "3. What sf function would you use to read in data?\n",
    "\n",
    "**Note** The `here` package is something we're using here to deal with our path names to differents files in the Binder environment project. This package is a great and reproducible alterative to using `setwd()`. For more on this see, Jenny Brian's passionate tweet and blog post [here](https://twitter.com/jennybryan/status/940436177219338240?lang=en). You can also check out the package documentation [here](https://here.r-lib.org/) for more helpful information."
   ]
  },
  {
   "cell_type": "code",
   "execution_count": null,
   "metadata": {
    "vscode": {
     "languageId": "r"
    }
   },
   "outputs": [],
   "source": [
    "# install the sf package\n",
    "# your code here\n",
    "# install.packages(\"sf\")\n",
    "# install.packages(\"here\")"
   ]
  },
  {
   "cell_type": "code",
   "execution_count": null,
   "metadata": {
    "vscode": {
     "languageId": "r"
    }
   },
   "outputs": [],
   "source": [
    "# load the sf and here libraries\n",
    "# your code here"
   ]
  },
  {
   "cell_type": "code",
   "execution_count": null,
   "metadata": {
    "vscode": {
     "languageId": "r"
    }
   },
   "outputs": [],
   "source": [
    "# look up the function to read in vector spatial data\n",
    "# your code here"
   ]
  },
  {
   "cell_type": "markdown",
   "metadata": {},
   "source": [
    "## Spatial Data Exploration\n",
    "\n",
    "Let's look at the spatial data in the data folder of this Binder environment.\n",
    "\n",
    "### Discussion Questions\n",
    "\n",
    "1. Navigate to the data > se_state_bounds folder in your Binder environment. How many files do you see?\n",
    "2. Which is the most important one? Which one do we use when we read in the data?\n",
    "3. What do you think this spatial data is?\n",
    "4. Which one of the three types of vector data do you think these data are represented by?\n",
    "\n",
    "Using the reading in function we figured out previously, let's try to look at the data a bit.\n",
    "\n",
    "## Coding: Reading In and Checking Our Data\n",
    "\n",
    "Try to do the following:\n",
    "\n",
    "1. Read in the data and assign it to a variable called `southeast`. Hint: the path to the data can be represented as `here::here(\"data\", \"southeast_states\", \"southeast_state_bounds.shp\")`.\n",
    "2. Use class() to check out the class of `southeast`.\n",
    "3. Use names() to get the attribute column names of `southeast`. What do you notice about the last column name?"
   ]
  },
  {
   "cell_type": "code",
   "execution_count": null,
   "metadata": {
    "vscode": {
     "languageId": "r"
    }
   },
   "outputs": [],
   "source": [
    "# check the path\n",
    "here::here(\"data\", \"southeast_states\", \"southeast_state_bounds.shp\")"
   ]
  },
  {
   "cell_type": "code",
   "execution_count": null,
   "metadata": {
    "vscode": {
     "languageId": "r"
    }
   },
   "outputs": [],
   "source": [
    "# read in states_bounds.shp and assign to state_bounds\n",
    "# add your code here"
   ]
  },
  {
   "cell_type": "code",
   "execution_count": null,
   "metadata": {
    "vscode": {
     "languageId": "r"
    }
   },
   "outputs": [],
   "source": [
    "# check the class of state_bounds\n",
    "# add your code here"
   ]
  },
  {
   "cell_type": "code",
   "execution_count": null,
   "metadata": {
    "vscode": {
     "languageId": "r"
    }
   },
   "outputs": [],
   "source": [
    "# check the column names of state_bounds attributes\n",
    "# add your code here"
   ]
  },
  {
   "cell_type": "code",
   "execution_count": null,
   "metadata": {
    "vscode": {
     "languageId": "r"
    }
   },
   "outputs": [],
   "source": [
    "# let's plot the data to see what it looks like\n",
    "ggplot(data = southeast) +\n",
    "  geom_sf()\n",
    "ggsave(here::here(\"outputs\", \"southeast_states_map.png\"), device = \"png\", dpi = 50)"
   ]
  },
  {
   "cell_type": "markdown",
   "metadata": {},
   "source": [
    "## Coordinate Reference Systems (CRSs)\n",
    "\n",
    "A coordinate reference systems defines how we convert (or we can also say \"project\") a 3D object (in this case, the Earth) to 2D surface (Figure 2).\n",
    "\n",
    "There are three major types of projections:\n",
    "\n",
    "1. cylindrical\n",
    "2. conical\n",
    "3. planar\n",
    "\n",
    "![Figure 2. Depiction of different spatial projections. Source: https://docs.qgis.org/](img/projections.png).\n",
    "\n",
    "Each projection type preserves unique spatial properties. You should choose the projection you use based on what spatial property (i.e., distance, area, angle) you want to preserve. For more on this see [here](https://docs.qgis.org/testing/en/docs/gentle_gis_introduction/coordinate_reference_systems.html#figure-projection-families).\n",
    "\n",
    "You might have also heard the word \"datum\". Some example datums include WGS84 or NAD83. A datum is the reference surface (usually an spheroid) that anchors a CRS to the Earth's surface. The WGS84 datum is a 3D reference surface (usually in latitude and longitude) while NAD83 is a 2D (projected) reference surface (usually in distance units like meters).\n",
    "\n",
    "Figure 3 shows how a datum defines a spheroid that forms the reference surface for real-world spatial data. This data can then be projected onto a 2D surface (i.e., a map).\n",
    "\n",
    "![Figure 3. Schematic of how we represent 3D information on a 2D surface. Source: https://gis.stackexchange.com/](img/datum.png).\n",
    "\n",
    "## Why Care About CRSs?\n",
    "\n",
    "1. R does not manage CRSs \"on the fly\" like ArcGIS - The onus is on you to manage the CRS (and extent, resolution, etc.) of your data. Many times this will mean that when attempting to work with two or more data (e.g., extract values to points from a set of shape files), you will get an error message that the data do not share projects and/or they do not align when you try to plot them. Often you can also not get an error message but your data might not be showing up on your map correctly (e.g., spatial boundaries are not lining up).\n",
    "\n",
    "2. Your analysis will not be correct - If things are not lining up properly then you're not going to be able to truely and accurately leverage spatial tools that rely on CRSs being the same (e.g., your comparing apples and apples, not apples and oranges)\n",
    "\n",
    "**Note** I find CRS management to be one of the time consuming parts of spatial data work in R. At the start of any spatial data project, you may wish to establish a set of reference data objects (e.g., snapshp.shp) to serve as a template for the official projection, extent, origin, resolution, etc.  When you import any data to R, you should always check if it matches snapshp.shp and, if not, proceed to reproject, crop, clip, resample, align. Whatever steps are necessary to make it conform to the project template.\n",
    "\n",
    "## Checking and Changing CRSs\n",
    "\n",
    "The easiest way to check a CRS is to use the `st_crs()` function and then look for the EPSG code. An EPSG code is a standard numeric code that defines a projection type.\n",
    "\n",
    "Various websites provide free services to look-up CRS definitions, characteristics, and transformations\n",
    "\n",
    "Most provide one or more of the following:\n",
    "\n",
    "* a short permanent link\n",
    "* opportunity to export CRS definition in various formats (WKT, XML, OGC GML, Proj.4, JavaScript, SQL)\n",
    "* a numeric reference code (i.e., EPSG code) that can be used in place of a fully specified CRS\n",
    "\n",
    "Some suggested websites:\n",
    "\n",
    "1. [https://epsg.io/](http://www.epsg-registry.org/) - open source nicer user interface to access data in the EPSG registry, includes a little transformation calculator too! and proj4 string generator, this is my go-to CRS look-up database\n",
    "2. [https://spatialreference.org/ref/epsg/](https://spatialreference.org/ref/epsg/)\n",
    "3. [http://www.epsg-registry.org/](http://www.epsg-registry.org/) - official database, but ugly slow interface\n",
    "\n",
    "I like #1 the best!\n",
    "\n",
    "If you want to change the CRS you can use the function `st_transform()` and the argument inside would be `crs = EPSG_CODE_HERE`.\n",
    "\n",
    "In some cases you'll know the CRS but R is not recognizing it. For these cases you can use `st_set_crs()` **Note** Be careful not to use `st_set_crs()` unless you are **100% sure** already know your data has a specific CRS but it's not showing up in R. This command will override the exising CRS.\n",
    "\n",
    "## Coding: Checking the CRS and Changing It\n",
    "\n",
    "Try to do the following:\n",
    "\n",
    "1. Use st_crs() to look up the CRS of `southeast`. What is it? Hint: Look at the \"USAGE\" EPSG code at the end.\n",
    "2. Change the CRS to the Universal Transverse Mercator (UTM) Zone 17N projection with NAD83 base geometry projection and assign this to a new variable called  `southeast_utm`.\n",
    "3. Use st_crs() to check the CRS of `southeast_utm`.\n",
    "\n",
    "This will look the same when you plot it but now all other datasets you use with it in a plot and analysis also have to be in UTM Zone 17N with NAD83 geometry."
   ]
  },
  {
   "cell_type": "code",
   "execution_count": null,
   "metadata": {
    "vscode": {
     "languageId": "r"
    }
   },
   "outputs": [],
   "source": [
    "# look at the crs of southeast\n",
    "# add your code here"
   ]
  },
  {
   "cell_type": "code",
   "execution_count": null,
   "metadata": {
    "vscode": {
     "languageId": "r"
    }
   },
   "outputs": [],
   "source": [
    "# reproject to UTM Zone 17N NAD83\n",
    "# add your code here\n",
    "# hint hint: https://epsg.io/26917"
   ]
  },
  {
   "cell_type": "code",
   "execution_count": null,
   "metadata": {
    "vscode": {
     "languageId": "r"
    }
   },
   "outputs": [],
   "source": [
    "# check crs of new dataset\n",
    "# add your code here"
   ]
  },
  {
   "cell_type": "markdown",
   "metadata": {},
   "source": [
    "## Wrap Up and Questions\n",
    "\n",
    "I hope you are now able to:\n",
    "\n",
    "1. **describe** key aspects of spatial data that are important for spatial data analysis (i.e., data types, formats, and coordinate reference systems)\n",
    "2. **describe** what the sf package can and cannot do, including some initial practice with using it.\n",
    "\n",
    "In two weeks, we will take what we learned today and learn more about how to do different spatial opporations (e.g., finding the area of things, doing spatial filters based on whether objects overlap in space) and also make some maps!\n",
    "\n",
    "Sign up for part 2 here: https://www.meetup.com/rladies-rtp/events/286377977/."
   ]
  }
 ],
 "metadata": {
  "kernelspec": {
   "display_name": "R",
   "language": "R",
   "name": "ir"
  },
  "language_info": {
   "codemirror_mode": "r",
   "file_extension": ".r",
   "mimetype": "text/x-r-source",
   "name": "R",
   "pygments_lexer": "r",
   "version": "4.2.0"
  }
 },
 "nbformat": 4,
 "nbformat_minor": 2
}
